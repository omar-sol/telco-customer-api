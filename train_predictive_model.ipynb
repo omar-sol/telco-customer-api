{
 "cells": [
  {
   "cell_type": "markdown",
   "metadata": {},
   "source": [
    "### Preprocess the data"
   ]
  },
  {
   "cell_type": "code",
   "execution_count": null,
   "metadata": {},
   "outputs": [],
   "source": [
    "import pandas as pd\n",
    "import joblib\n",
    "\n",
    "# Load the data\n",
    "data = pd.read_csv('Telco-Customer-Churn-3.csv')\n",
    "# Display the first few rows of the dataframe\n",
    "data.head(1)\n"
   ]
  },
  {
   "cell_type": "code",
   "execution_count": null,
   "metadata": {},
   "outputs": [],
   "source": [
    "# Check the data types and missing values\n",
    "data.info()"
   ]
  },
  {
   "cell_type": "code",
   "execution_count": null,
   "metadata": {},
   "outputs": [],
   "source": [
    "from sklearn.compose import ColumnTransformer\n",
    "from sklearn.preprocessing import LabelEncoder, StandardScaler, OneHotEncoder\n",
    "from sklearn.model_selection import train_test_split\n",
    "\n",
    "# Drop the 'customerID' column as it is not a useful feature\n",
    "data.drop(\"customerID\", axis=1, inplace=True)\n",
    "\n",
    "# Separate the target variable - X: features, y: target\n",
    "X = data.drop(\"Churn\", axis=1)\n",
    "y = data[\"Churn\"]\n",
    "\n",
    "binary_features = [\n",
    "    \"gender\",\n",
    "    \"SeniorCitizen\",\n",
    "    \"Partner\",\n",
    "    \"Dependents\",\n",
    "    \"PhoneService\",\n",
    "    \"PaperlessBilling\",\n",
    "]\n",
    "multi_category_features = [\n",
    "    \"MultipleLines\",\n",
    "    \"InternetService\",\n",
    "    \"OnlineSecurity\",\n",
    "    \"OnlineBackup\",\n",
    "    \"DeviceProtection\",\n",
    "    \"TechSupport\",\n",
    "    \"StreamingTV\",\n",
    "    \"StreamingMovies\",\n",
    "    \"Contract\",\n",
    "    \"PaymentMethod\",\n",
    "]\n",
    "numerical_features = [\"tenure\", \"MonthlyCharges\", \"TotalCharges\"]\n",
    "\n",
    "# Apply Label Encoding for binary features - Transform values to 0 and 1\n",
    "le = LabelEncoder()\n",
    "for feature in binary_features:\n",
    "    X[feature] = le.fit_transform(X[feature])\n",
    "\n",
    "# Apply Label Encoding for the target variable - Transform values into 0 and 1\n",
    "le = LabelEncoder()\n",
    "y = le.fit_transform(y)\n",
    "\n",
    "# Split the dataset into training set and test set\n",
    "X_train, X_test, y_train, y_test = train_test_split(\n",
    "    X, y, test_size=0.2, random_state=42\n",
    ")\n",
    "\n",
    "# Define the transformations\n",
    "transformer = ColumnTransformer(\n",
    "    [\n",
    "        (\"multi_category\", OneHotEncoder(drop=\"first\"), multi_category_features),\n",
    "        (\"numerical\", StandardScaler(), numerical_features),\n",
    "    ]\n",
    ")\n",
    "X_train = transformer.fit_transform(X_train)\n",
    "X_test = transformer.transform(X_test)\n",
    "joblib.dump(transformer, \"column_transformer.pkl\")\n",
    "\n",
    "print(\"X_train shape: \", X_train.shape)"
   ]
  },
  {
   "cell_type": "markdown",
   "metadata": {},
   "source": [
    "### Train the model"
   ]
  },
  {
   "cell_type": "code",
   "execution_count": null,
   "metadata": {},
   "outputs": [],
   "source": [
    "from sklearn.linear_model import LogisticRegression\n",
    "\n",
    "# Instantiate the LogisticRegression model\n",
    "lr = LogisticRegression(class_weight='balanced',random_state=42)\n",
    "\n",
    "# Fit the model on the training data\n",
    "lr.fit(X_train, y_train)\n",
    "\n",
    "# Save the model to a file\n",
    "joblib.dump(lr, 'logistic_regression_model.pkl')"
   ]
  },
  {
   "cell_type": "markdown",
   "metadata": {},
   "source": [
    "### Evaluate the model"
   ]
  },
  {
   "cell_type": "code",
   "execution_count": null,
   "metadata": {},
   "outputs": [],
   "source": [
    "from sklearn.metrics import accuracy_score, precision_score, recall_score, f1_score, confusion_matrix\n",
    "\n",
    "# Make predictions on the test data\n",
    "y_pred_lr = lr.predict(X_test)\n",
    "y_prob_lr = lr.predict_proba(X_test)[:, 1]\n",
    "\n",
    "# Calculate evaluation metrics\n",
    "accuracy_lr = accuracy_score(y_test, y_pred_lr)\n",
    "precision_lr = precision_score(y_test, y_pred_lr)\n",
    "recall_lr = recall_score(y_test, y_pred_lr)\n",
    "f1_lr = f1_score(y_test, y_pred_lr)\n",
    "confusion_lr = confusion_matrix(y_test, y_pred_lr)\n",
    "\n",
    "print(\n",
    "    \"accuracy_score: \",\n",
    "    accuracy_lr,\n",
    "    \"\\nprecision_score: \",\n",
    "    precision_lr,\n",
    "    \"\\nrecall_score: \",\n",
    "    recall_lr,\n",
    "    \"\\nf1_score: \",\n",
    "    f1_lr,\n",
    "    \"\\nconfusion_matrix: \\n\",\n",
    "    confusion_lr,\n",
    ")"
   ]
  },
  {
   "cell_type": "markdown",
   "metadata": {},
   "source": [
    "### Inference on new data"
   ]
  },
  {
   "cell_type": "code",
   "execution_count": 1,
   "metadata": {},
   "outputs": [],
   "source": [
    "import pandas as pd\n",
    "import joblib\n",
    "from sklearn.preprocessing import LabelEncoder\n",
    "\n",
    "# load saved model and transformations\n",
    "lr = joblib.load(\"logistic_regression_model.pkl\")\n",
    "transformer = joblib.load('column_transformer.pkl')"
   ]
  },
  {
   "cell_type": "code",
   "execution_count": 6,
   "metadata": {},
   "outputs": [
    {
     "name": "stdout",
     "output_type": "stream",
     "text": [
      "(1, 24)\n",
      "[1]\n",
      "[0.65309426]\n"
     ]
    }
   ],
   "source": [
    "# Inference data\n",
    "data = {\n",
    "    \"Inputs\": {\n",
    "        \"input1\": [\n",
    "            {\n",
    "                \"gender\": \"Female\",\n",
    "                \"SeniorCitizen\": \"No\",\n",
    "                \"Partner\": \"Yes\",\n",
    "                \"Dependents\": \"No\",\n",
    "                \"tenure\": 2,\n",
    "                \"PhoneService\": \"No\",\n",
    "                \"MultipleLines\": \"No phone service\",\n",
    "                \"InternetService\": \"DSL\",\n",
    "                \"OnlineSecurity\": \"Yes\",\n",
    "                \"OnlineBackup\": \"No\",\n",
    "                \"DeviceProtection\": \"Yes\",\n",
    "                \"TechSupport\": \"No\",\n",
    "                \"StreamingTV\": \"No\",\n",
    "                \"StreamingMovies\": \"No\",\n",
    "                \"Contract\": \"Month-to-month\",\n",
    "                \"PaperlessBilling\": \"Yes\",\n",
    "                \"PaymentMethod\": \"Credit card (automatic)\",\n",
    "                \"MonthlyCharges\": 29.85,\n",
    "                \"TotalCharges\": 59.7,\n",
    "            },\n",
    "        ]\n",
    "    },\n",
    "    \"GlobalParameters\": {},\n",
    "}\n",
    "\n",
    "# Extract the 'input1' list from the dictionary\n",
    "input1 = data[\"Inputs\"][\"input1\"]\n",
    "\n",
    "# Convert the list to a DataFrame\n",
    "df = pd.DataFrame(input1)\n",
    "\n",
    "# Apply Label Encoding for binary categorical variables\n",
    "binary_features = [\n",
    "    \"gender\",\n",
    "    \"Partner\",\n",
    "    \"Dependents\",\n",
    "    \"PhoneService\",\n",
    "    \"PaperlessBilling\",\n",
    "]\n",
    "le = LabelEncoder()\n",
    "for feature in binary_features:\n",
    "    df[feature] = le.fit_transform(df[feature])\n",
    "\n",
    "df = transformer.transform(df)\n",
    "print(df.shape)\n",
    "\n",
    "y_pred_lr = lr.predict(df)\n",
    "y_prob_lr = lr.predict_proba(df)[:, 1]\n",
    "\n",
    "print(y_pred_lr)\n",
    "print(y_prob_lr)"
   ]
  }
 ],
 "metadata": {
  "kernelspec": {
   "display_name": "env",
   "language": "python",
   "name": "python3"
  },
  "language_info": {
   "codemirror_mode": {
    "name": "ipython",
    "version": 3
   },
   "file_extension": ".py",
   "mimetype": "text/x-python",
   "name": "python",
   "nbconvert_exporter": "python",
   "pygments_lexer": "ipython3",
   "version": "3.11.4"
  },
  "orig_nbformat": 4
 },
 "nbformat": 4,
 "nbformat_minor": 2
}
